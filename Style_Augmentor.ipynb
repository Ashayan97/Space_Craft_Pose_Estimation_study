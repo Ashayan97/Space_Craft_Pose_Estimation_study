{
  "nbformat": 4,
  "nbformat_minor": 0,
  "metadata": {
    "colab": {
      "provenance": []
    },
    "kernelspec": {
      "name": "python3",
      "display_name": "Python 3"
    },
    "language_info": {
      "name": "python"
    }
  },
  "cells": [
    {
      "cell_type": "code",
      "source": [
        "from __future__ import absolute_import\n",
        "from __future__ import division\n",
        "from __future__ import print_function\n",
        "\n",
        "from Style_agmenting.styleaug import StyleAugmentor\n",
        "\n",
        "import torch\n",
        "from torchvision.transforms import ToTensor, ToPILImage\n",
        "from PIL import Image\n",
        "import matplotlib.pyplot as plt\n",
        "import cv2\n",
        "import numpy as np\n",
        "\n",
        "import easydict \n",
        "import json\n",
        "import argparse\n",
        "import os\n",
        "import numpy as np\n",
        "import cv2\n",
        "from tqdm import tqdm\n",
        "\n",
        "# PyTorch Tensor <-> PIL Image transforms:\n",
        "toTensor = ToTensor()\n",
        "toPIL = ToPILImage()\n",
        "\n",
        "def main():\n",
        "\n",
        "    # Read labels from JSON file\n",
        "    jsonfile = 'train.json'\n",
        "    print(f'Reading JSON file from {jsonfile}...')\n",
        "    with open(jsonfile, 'r') as f:\n",
        "        labels = json.load(f) # list\n",
        "    for idx in tqdm(range(len(labels))):\n",
        "\n",
        "        # ---------- Read image & resize & save\n",
        "        filename = labels[idx]['filename']\n",
        "        image    = cv2.imread(os.path.join('Datasets/synthetic/images', filename), cv2.IMREAD_COLOR)\n",
        "        im_torch = toTensor(image).unsqueeze(0) # 1 x 3 x 256 x 256\n",
        "        im_torch = im_torch.to('cuda:0' if torch.cuda.is_available() else 'cpu')\n",
        "\n",
        "        # create style augmentor:\n",
        "        augmentor = StyleAugmentor()\n",
        "\n",
        "        # randomize style:\n",
        "        im_restyled = augmentor(im_torch)\n",
        "        image = toPIL(im_restyled.squeeze().cpu())\n",
        "        image = np.array(image)\n",
        "        \n",
        "        image    = cv2.resize(image,(768,512))\n",
        "        cv2.imwrite(os.path.join('Datasets/synthetic/styles_768x512_RGB', filename), image)\n",
        "\n",
        "    print('done\\n\\n') \n",
        "\n",
        "\n",
        "\n",
        "if __name__=='__main__':\n",
        "      main()"
      ],
      "metadata": {
        "id": "G_p11VnaWR_T"
      },
      "execution_count": null,
      "outputs": []
    }
  ]
}